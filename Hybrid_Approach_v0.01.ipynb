{
 "cells": [
  {
   "cell_type": "markdown",
   "metadata": {},
   "source": [
    "# Hybrid Approach V0.01\n",
    "\n",
    "This document records the process to implement the first simple version of hybrid approach based on G.B.'s approach."
   ]
  },
  {
   "cell_type": "markdown",
   "metadata": {},
   "source": [
    "### Output Air Unit Data\n",
    "Read and pre-process data by panda"
   ]
  },
  {
   "cell_type": "code",
   "execution_count": 2,
   "metadata": {},
   "outputs": [
    {
     "name": "stderr",
     "output_type": "stream",
     "text": [
      "D:\\App\\Anaconda3\\lib\\site-packages\\sklearn\\utils\\validation.py:444: DataConversionWarning: Data with input dtype object was converted to float64 by MinMaxScaler.\n",
      "  warnings.warn(msg, DataConversionWarning)\n"
     ]
    }
   ],
   "source": [
    "import pandas\n",
    "import numpy as np\n",
    "from sklearn.preprocessing import MinMaxScaler\n",
    "\n",
    "file_name = './OAU1201.csv'\n",
    "raw_oau_data  = pandas.read_csv(file_name)\n",
    "\n",
    "oau_headings = np.array(raw_oau_data.columns[1:])\n",
    "oau_data     = np.array(raw_oau_data[oau_headings])\n",
    "\n",
    "#delete nan\n",
    "mask     = [[1 if type(j)==float and np.isnan(j) else 0 for j in i] for i in oau_data]\n",
    "oau_data = np.array([i for i,j in zip(oau_data,mask) if sum(j)==0])\n",
    "\n",
    "# #############################################################################\n",
    "# extract continuous data\n",
    "continuous_oau_data = oau_data[:,0:12]\n",
    "new_data        = oau_data\n",
    "for i in range(12,len(oau_data[0])):\n",
    "    dis_data = oau_data[:,i]\n",
    "    domain   = list(set(dis_data))\n",
    "    new_data[:,i] = [domain.index(k) for k in dis_data]\n",
    "\n",
    "#print(new_data)\n",
    "    \n",
    "norm_oau_data                    = MinMaxScaler().fit_transform(new_data)\n",
    "continuous_norm_oau_data         = MinMaxScaler().fit_transform(continuous_oau_data)\n",
    "discrete_oau_data                = oau_data[:,12:]\n",
    "# #############################################################################"
   ]
  },
  {
   "cell_type": "markdown",
   "metadata": {},
   "source": [
    "## Auto encoder decoder\n",
    "This subsetion describes how to design an auto encoder decoder to extract features of data.\n",
    "\n",
    "### What is auto encoder decoder ?\n",
    "Auto encoder decoder is a special artificial neural network that tranlate input data and ouput the same/similar data. Because the there is no information lost in the translating process, we can use the data inthe middle layer as the feathures of the input data.\n",
    "\n",
    "When middle layer's hidden variables are less than input variables, auto encoder decoder compresses the data.\n",
    "When middle layer's hidden variables are more than input variables, auto encoder decoder represents data sparsely.\n",
    "##### auto encoder decoder structure design\n",
    "Now, we just use some simple structure.\n",
    "      \n",
    "The structure works!\n",
    "The \"works\" mean just works! But the result is bad! The good thing is that we can start now. The bad thing is that the structure need to be re-designed!"
   ]
  },
  {
   "cell_type": "code",
   "execution_count": 7,
   "metadata": {},
   "outputs": [
    {
     "name": "stdout",
     "output_type": "stream",
     "text": [
      "simple_endecoder (\n",
      "  (in1): Linear (26 -> 6)\n",
      "  (out1): Linear (6 -> 26)\n",
      ")\n"
     ]
    }
   ],
   "source": [
    "import torch\n",
    "from torch.autograd import Variable\n",
    "import torch.nn as nn\n",
    "import torch.nn.functional as F\n",
    "\n",
    "#input_dim  = len(continuous_norm_oau_data[0])\n",
    "input_dim  = len(norm_oau_data[0])\n",
    "\n",
    "class simple_endecoder(nn.Module):\n",
    "    def __init__(self):\n",
    "        super(simple_endecoder,self).__init__()\n",
    "        #linear\n",
    "        self.in1  = nn.Linear(input_dim,int(input_dim/4))\n",
    "\n",
    "        self.out1 = nn.Linear(int(input_dim/4),input_dim)            \n",
    "    def forward(self,x):\n",
    "        x = self.in1(x)\n",
    "\n",
    "        x = self.out1(x)\n",
    "        return x\n",
    "    \n",
    "    def encode_data(self,x):\n",
    "        x = self.in1(x)\n",
    "        return x\n",
    "    \n",
    "net       = simple_endecoder()\n",
    "print(net)\n",
    "\n"
   ]
  },
  {
   "cell_type": "code",
   "execution_count": 8,
   "metadata": {},
   "outputs": [
    {
     "data": {
      "image/png": "[encoded data removed]",
      "text/plain": [
       "<matplotlib.figure.Figure at 0x175a35a56d8>"
      ]
     },
     "metadata": {},
     "output_type": "display_data"
    }
   ],
   "source": [
    "import torch.optim as optim\n",
    "import torch.nn as nn\n",
    "import torch\n",
    "\n",
    "\n",
    "pt_data      = torch.FloatTensor(norm_oau_data)#continuous_norm_oau_data\n",
    "pt_data      = torch.autograd.Variable(pt_data)\n",
    "\n",
    "criterion = nn.MSELoss()\n",
    "optimizer = optim.SGD(net.parameters(), lr=0.01)\n",
    "loss0   = 0\n",
    "epsilon = 0.00001\n",
    "\n",
    "def low_parameter_to_zero(para,epsilon):\n",
    "    for i in para:\n",
    "        para = i.data\n",
    "        mask = (torch.abs(para)<epsilon)\n",
    "        mask = mask.type(torch.FloatTensor)\n",
    "        i.data.addcmul_(-1.0,i.data,mask)\n",
    "    \n",
    "for epoch in range(100):\n",
    "    \n",
    "    optimizer.zero_grad()   # zero the gradient buffers\n",
    "    out  = net.forward(pt_data)\n",
    "    loss = criterion(out,pt_data)\n",
    "    #print('[%d] loss: %.3f' %epoch + 1, loss.data[0]))\n",
    "    loss0 = loss.data[0]\n",
    "    loss.backward()\n",
    "    optimizer.step()        # Does the update\n",
    "loss_recorder = []\n",
    "for epoch in range(2000):\n",
    "    \n",
    "    optimizer.zero_grad()   # zero the gradient buffers\n",
    "    out  = net.forward(pt_data)\n",
    "    loss = criterion(out,pt_data)\n",
    "    loss_recorder.append(loss.data[0])\n",
    "    #print('[%d] loss: %.3f' %(epoch + 1, loss.data[0]))\n",
    "    loss0 = loss.data[0]\n",
    "    loss.backward()\n",
    "    optimizer.step()        # Does the update\n",
    "    #low_parameter_to_zero(net.parameters(),0.1)\n",
    "    \n",
    "import matplotlib.pyplot as plt\n",
    "\n",
    "plt.plot(loss_recorder)\n",
    "plt.title('error curve')\n",
    "plt.show()"
   ]
  },
  {
   "cell_type": "markdown",
   "metadata": {},
   "source": [
    "##### encode all the data"
   ]
  },
  {
   "cell_type": "code",
   "execution_count": 9,
   "metadata": {
    "collapsed": true
   },
   "outputs": [],
   "source": [
    "encoded_oau_data      = net.encode_data(pt_data)\n",
    "encoded_oau_data      = encoded_oau_data.data.numpy()"
   ]
  },
  {
   "cell_type": "markdown",
   "metadata": {},
   "source": [
    "## DBSCAN\n",
    "Density-based spatial clustering of applications with noise is a cluster algorithm proposed by Martin Ester .etc. It is able to find cluster in any shape and does not need to specify the number of clusters in advance.\n",
    "\n",
    "We require that for every point p in a cluster C there is a point q in C so that p is inside of the Eps-\n",
    "neighborhood of q and NEps(q) contains at least MinPts points.\n",
    "\n",
    "We use the scikit-learn tool kits."
   ]
  },
  {
   "cell_type": "markdown",
   "metadata": {},
   "source": [
    "#### How to determine epsilon ?\n",
    "k-distance plot for all data"
   ]
  },
  {
   "cell_type": "code",
   "execution_count": 10,
   "metadata": {},
   "outputs": [
    {
     "data": {
      "image/png": "[encoded data removed]",
      "text/plain": [
       "<matplotlib.figure.Figure at 0x1759f1c7d68>"
      ]
     },
     "metadata": {},
     "output_type": "display_data"
    }
   ],
   "source": [
    "import numpy as np\n",
    "from sklearn.neighbors import NearestNeighbors\n",
    "\n",
    "k = 5\n",
    "\n",
    "neigh = NearestNeighbors(k+1)\n",
    "nbrs  = neigh.fit(norm_oau_data)\n",
    "distances, _ = nbrs.kneighbors(norm_oau_data)\n",
    "distances    = np.sum(distances,axis=1)/k\n",
    "distances.sort()\n",
    "\n",
    "\n",
    "import matplotlib.pyplot as plt\n",
    "\n",
    "plt.plot(distances)\n",
    "plt.title('%d-NN distance' % k)\n",
    "plt.show()"
   ]
  },
  {
   "cell_type": "markdown",
   "metadata": {},
   "source": [
    "k-distance plot for encoded data"
   ]
  },
  {
   "cell_type": "code",
   "execution_count": 11,
   "metadata": {},
   "outputs": [
    {
     "data": {
      "image/png": "[encoded data removed]",
      "text/plain": [
       "<matplotlib.figure.Figure at 0x175a00c82b0>"
      ]
     },
     "metadata": {},
     "output_type": "display_data"
    }
   ],
   "source": [
    "import numpy as np\n",
    "from sklearn.neighbors import NearestNeighbors\n",
    "\n",
    "k = 5\n",
    "\n",
    "neigh = NearestNeighbors(k+1)\n",
    "nbrs  = neigh.fit(encoded_oau_data)\n",
    "distances, _ = nbrs.kneighbors(encoded_oau_data)\n",
    "distances    = np.sum(distances,axis=1)/k\n",
    "distances.sort()\n",
    "\n",
    "\n",
    "import matplotlib.pyplot as plt\n",
    "\n",
    "plt.plot(distances)\n",
    "plt.title('%d-NN distance' % k)\n",
    "plt.show()"
   ]
  },
  {
   "cell_type": "markdown",
   "metadata": {},
   "source": [
    "##### DBSCN for all data"
   ]
  },
  {
   "cell_type": "code",
   "execution_count": 12,
   "metadata": {},
   "outputs": [
    {
     "name": "stdout",
     "output_type": "stream",
     "text": [
      "Automatically created module for IPython interactive environment\n",
      "Estimated number of clusters: 6\n",
      "Silhouette Coefficient: 0.812\n"
     ]
    },
    {
     "data": {
      "image/png": "[encoded data removed]",
      "text/plain": [
       "<matplotlib.figure.Figure at 0x175a50b1f60>"
      ]
     },
     "metadata": {},
     "output_type": "display_data"
    }
   ],
   "source": [
    "print(__doc__)\n",
    "\n",
    "import numpy as np\n",
    "from sklearn.cluster import DBSCAN\n",
    "from sklearn import metrics\n",
    "from sklearn.datasets.samples_generator import make_blobs\n",
    "from sklearn.metrics.pairwise import euclidean_distances\n",
    "\n",
    "# #############################################################################\n",
    "# Compute DBSCAN\n",
    "db = DBSCAN(eps=0.02, min_samples=10).fit(norm_oau_data)\n",
    "core_samples_mask = np.zeros_like(db.labels_, dtype=bool)\n",
    "core_samples_mask[db.core_sample_indices_] = True\n",
    "labels = db.labels_\n",
    "\n",
    "# Number of clusters in labels, ignoring noise if present.\n",
    "n_clusters_ = len(set(labels)) - (1 if -1 in labels else 0)\n",
    "\n",
    "print('Estimated number of clusters: %d' % n_clusters_)\n",
    "print(\"Silhouette Coefficient: %0.3f\"\n",
    "      % metrics.silhouette_score(norm_oau_data, labels))\n",
    "\n",
    "# #############################################################################\n",
    "# Plot result\n",
    "import matplotlib.pyplot as plt\n",
    "\n",
    "x   = np.arange(len(labels))\n",
    "plt.scatter(x,labels)\n",
    "\n",
    "plt.title('Estimated number of clusters: %d' % n_clusters_)\n",
    "plt.show()"
   ]
  },
  {
   "cell_type": "markdown",
   "metadata": {},
   "source": [
    "##### DBSCAN for encoded data"
   ]
  },
  {
   "cell_type": "code",
   "execution_count": 13,
   "metadata": {},
   "outputs": [
    {
     "name": "stdout",
     "output_type": "stream",
     "text": [
      "Automatically created module for IPython interactive environment\n",
      "Estimated number of clusters: 5\n",
      "Silhouette Coefficient: 0.966\n"
     ]
    },
    {
     "data": {
      "image/png": "[encoded data removed]",
      "text/plain": [
       "<matplotlib.figure.Figure at 0x175a4bb1358>"
      ]
     },
     "metadata": {},
     "output_type": "display_data"
    }
   ],
   "source": [
    "print(__doc__)\n",
    "\n",
    "import numpy as np\n",
    "from sklearn.cluster import DBSCAN\n",
    "from sklearn import metrics\n",
    "from sklearn.datasets.samples_generator import make_blobs\n",
    "from sklearn.metrics.pairwise import euclidean_distances\n",
    "\n",
    "# #############################################################################\n",
    "# Compute DBSCAN\n",
    "db = DBSCAN(eps=0.02, min_samples=10).fit(encoded_oau_data)\n",
    "core_samples_mask = np.zeros_like(db.labels_, dtype=bool)\n",
    "core_samples_mask[db.core_sample_indices_] = True\n",
    "labels = db.labels_\n",
    "\n",
    "# Number of clusters in labels, ignoring noise if present.\n",
    "n_clusters_ = len(set(labels)) - (1 if -1 in labels else 0)\n",
    "\n",
    "print('Estimated number of clusters: %d' % n_clusters_)\n",
    "print(\"Silhouette Coefficient: %0.3f\"\n",
    "      % metrics.silhouette_score(encoded_oau_data, labels))\n",
    "\n",
    "# #############################################################################\n",
    "# Plot result\n",
    "import matplotlib.pyplot as plt\n",
    "\n",
    "x   = np.arange(len(labels))\n",
    "plt.scatter(x,labels)\n",
    "\n",
    "plt.title('Estimated number of clusters: %d' % n_clusters_)\n",
    "plt.show()"
   ]
  },
  {
   "cell_type": "markdown",
   "metadata": {},
   "source": [
    "##### Z-test"
   ]
  },
  {
   "cell_type": "code",
   "execution_count": 14,
   "metadata": {
    "collapsed": true
   },
   "outputs": [],
   "source": [
    "import scipy.stats as st\n",
    "\n",
    "def z_test(data,length,epsilon=None):\n",
    "    assert(length<len(data))\n",
    "    epsilon = 0.95 if epsilon == None else epsilon\n",
    "    thresh_hold = st.norm.ppf(epsilon)\n",
    "    result = np.zeros([len(data)-length,len(data[0])])\n",
    "    for i in range(length,len(data)):\n",
    "        mean = np.mean(data[i-length:i,:],0)\n",
    "        var  = np.var(data[i-length:i,:],0)\n",
    "        norm = (data[i,:]-mean)/(var**0.5)\n",
    "        z    = abs(norm) >= thresh_hold\n",
    "        result[i-length,:] = [int(j) for j in z]\n",
    "    return result"
   ]
  },
  {
   "cell_type": "markdown",
   "metadata": {},
   "source": [
    "##### add labels"
   ]
  },
  {
   "cell_type": "code",
   "execution_count": 15,
   "metadata": {
    "collapsed": true
   },
   "outputs": [],
   "source": [
    "def discrete_data(data,label,length,epsilon=None):\n",
    "    mask = (label!=-1)\n",
    "    data = data[mask]\n",
    "    label= label[mask]\n",
    "    result = z_test(data,length,epsilon)\n",
    "    label  = label[length:]\n",
    "    headings = ['feature'+str(i) for i in range(len(result[0]))]\n",
    "    headings.append('mode')\n",
    "    labeled_data = np.hstack((result,[[i] for i in label]))\n",
    "    return headings, labeled_data"
   ]
  },
  {
   "cell_type": "code",
   "execution_count": 16,
   "metadata": {},
   "outputs": [
    {
     "name": "stdout",
     "output_type": "stream",
     "text": [
      "['feature0', 'feature1', 'feature2', 'feature3', 'feature4', 'feature5', 'mode']\n",
      "10176\n",
      "[  883.   972.  1095.  1047.  1028.  1047.  7223.]\n"
     ]
    }
   ],
   "source": [
    "z_len = 100\n",
    "\n",
    "headings, labeled_data = discrete_data(encoded_oau_data,labels,z_len,0.95)\n",
    "print(headings)\n",
    "print(len(labeled_data))\n",
    "print(sum(labeled_data))"
   ]
  },
  {
   "cell_type": "markdown",
   "metadata": {},
   "source": [
    "## TAN classifier\n",
    "TAN classifier is the Tree Augmented Naive Baysian, which is created by adding a spaned tree into naive baysian network."
   ]
  },
  {
   "cell_type": "code",
   "execution_count": 39,
   "metadata": {
    "collapsed": true
   },
   "outputs": [],
   "source": [
    "import numpy as np\n",
    "import math\n",
    "from collections import defaultdict\n",
    "\n",
    "class node:\n",
    "    '''\n",
    "    The class to store the information of a node in a graph\n",
    "    '''\n",
    "    def __init__(self,name,domain):\n",
    "        self.name          = name       #a string\n",
    "        self.domain        = domain     #a list for string\n",
    "        self.father        = []         #a list\n",
    "        self.children      = []         #a list\n",
    "        self.pro_table     = {}         #init as an empty dict\n",
    "                                        #for example\n",
    "                                        #{(on,on):[0.1,0.9],(on,off):[0.2,0.8],(off,on):[0.3,0.7],(off,off):[0.4,0.6]}\n",
    "        \n",
    "    def add_father(self,fa):            #fa is a node\n",
    "        self.father.append(fa)\n",
    "        \n",
    "    def add_child(self,ch):             #ch is a node\n",
    "        self.children.append(ch)\n",
    "        \n",
    "    def add_pro(self,instance,table):   #instance is a string list, table is a float list\n",
    "        self.pro_table[instance] = table\n",
    "        \n",
    "    def print_self(self):\n",
    "        #structring information\n",
    "        father_info   = ''.join([i.name+' ' for i in self.father])\n",
    "        children_info = ''.join([i.name+' ' for i in self.children])\n",
    "        \n",
    "        print(father_info + '==>' + self.name + '==>' + children_info)\n",
    "        \n",
    "        #conditional probability table\n",
    "        for i in self.pro_table:\n",
    "            print(i,':',self.pro_table[i])\n",
    "        \n",
    "            \n",
    "        \n",
    "class graph:\n",
    "    '''\n",
    "    The class to store a graph\n",
    "    The code will not check the validation of data, so please preprocess the data to ensure\n",
    "    1) there are heandings: name1,name2,...\n",
    "    2) no empty data\n",
    "    3) all data is discretized\n",
    "    4) last colum is the label\n",
    "    '''\n",
    "    def __init__(self):\n",
    "        self.nodes         = []         #a list\n",
    "        \n",
    "    def get_node(self,the_node):\n",
    "        '''\n",
    "        functional function\n",
    "        get the node by name\n",
    "        input:\n",
    "            variable  type    description\n",
    "            ------------------------------\n",
    "            the_node, string, node name\n",
    "        output:\n",
    "            type         description\n",
    "            ------------------------------\n",
    "            class node,  the found node\n",
    "        '''\n",
    "        names              = [i.name for i in self.nodes]\n",
    "        #print('find node ',the_node,' in ',names)\n",
    "        node_index         = names.index(the_node)\n",
    "        return self.nodes[node_index]\n",
    "    \n",
    "    def get_node_index(self,the_node):\n",
    "        '''\n",
    "        functional function\n",
    "        get the node by name\n",
    "        input:\n",
    "            variable  type    description\n",
    "            ------------------------------\n",
    "            the_node, string, node name\n",
    "        output:\n",
    "            type         description\n",
    "            ------------------------------\n",
    "            int,         index\n",
    "        '''\n",
    "        names              = [i.name for i in self.nodes]\n",
    "        node_index         = names.index(the_node)\n",
    "        return node_index\n",
    "        \n",
    "    def add_node(self,name,domain):\n",
    "        '''\n",
    "        functional function\n",
    "        add a node by name and domain\n",
    "        input:\n",
    "            variable  type    description\n",
    "            ------------------------------\n",
    "            name,     string, node name\n",
    "            domain,   list,   domain of the node\n",
    "        '''\n",
    "        self.nodes.append(node(name,domain))\n",
    "        \n",
    "    def add_connection(self,from_node1,to_node2):#both from_node1 and to_node2 are strings\n",
    "        '''\n",
    "        functional function\n",
    "        add a connection betwen to nodes\n",
    "        input:\n",
    "            variable     type         description\n",
    "            -------------------------------------------\n",
    "            from_node1,  class node,  the first node\n",
    "            to_node2,    class node,  the second node\n",
    "        '''\n",
    "        #print('from node 1 =',from_node1)\n",
    "        #print('to node 2 =',to_node2)\n",
    "        from_node1         = self.get_node(from_node1)\n",
    "        to_node2           = self.get_node(to_node2)\n",
    "        \n",
    "        from_node1.add_child(to_node2)\n",
    "        to_node2.add_father(from_node1)\n",
    "        \n",
    "    def add_pro(self,the_node,instance,table):#the_node is a string\n",
    "        '''\n",
    "        functional function\n",
    "        add a conditioanal probability P(a|b) into a node\n",
    "        input:\n",
    "            variable  type    description\n",
    "            ------------------------------\n",
    "            the_node, string, node name\n",
    "            instance, list,   b part in P(a|b)\n",
    "                              where each entry in it is a value in domain\n",
    "            table,    list,   a part in P(a|b)\n",
    "                              where each entry in it is a probability responding to a value\n",
    "        '''\n",
    "        the_node           = self.get_node(the_node)\n",
    "        the_node.add_pro(instance,table)\n",
    "        \n",
    "    def get_nodes_from_data(self,headings,data):#headings = ['data1','data2',...], data = numpy 2d vector\n",
    "        '''\n",
    "        interface/functional function\n",
    "        get the basic information about node from data and insert them into the class\n",
    "        input:\n",
    "            variable  type            description\n",
    "            ------------------------------------------------\n",
    "            headings, numpy arrary,   the names of variables\n",
    "            data,     numpy 2darrary, all the data where row means different instance\n",
    "                                      and col means each sensor\n",
    "        '''\n",
    "        for i,name in enumerate(headings):\n",
    "            domain = list(set(data[:,i]))\n",
    "            self.add_node(name,domain)\n",
    "            \n",
    "    def mutual_information(self,data1,data2):\n",
    "        '''\n",
    "        functional function\n",
    "        get the mutual information between two cols\n",
    "        input:\n",
    "            variable  type            description\n",
    "            ------------------------------------------------\n",
    "            data1,    numpy arrary,   data of the first col\n",
    "            data2,    numpy arrary,   data of the second col\n",
    "        output:\n",
    "            type    description\n",
    "            -----------------------------\n",
    "            float,  mutual information entropy with laplace smooth\n",
    "        '''\n",
    "        assert(len(data1)==len(data2))\n",
    "        \n",
    "        mi       = 0.0\n",
    "        length   = len(data1)\n",
    "        \n",
    "        domain1 = list(set(data1))\n",
    "        #print('domain1=',domain1)\n",
    "        domain2 = list(set(data2))\n",
    "        #print('domain2=',domain2)\n",
    "        len1    = len(domain1)\n",
    "        len2    = len(domain2)\n",
    "        \n",
    "        for x in domain1:\n",
    "            for y in domain2:\n",
    "                Px     = float(sum(data1==x) + 1)/(length+len1)    #laplace smooth\n",
    "                Py     = float(sum(data2==y) + 1)/(length+len2)    #laplace smooth\n",
    "                \n",
    "                indexxy= [1 if (i==x)and(j==y) else 0 for i,j in zip(data1,data2)]\n",
    "                Pxy    = float(sum(indexxy) + 1)/(length+len1*len2) #laplace smooth\n",
    "                \n",
    "                mi     = mi + Pxy*math.log(Pxy/(Px*Py))\n",
    "        return mi\n",
    "    \n",
    "    def get_max_span_tree_prime(self,mi_dict):\n",
    "        '''\n",
    "        functional function\n",
    "        judge if some edges compose a span tree\n",
    "        input:\n",
    "            variable  type    description\n",
    "            -----------------------------\n",
    "            edges,    dict,   all the edges\n",
    "        output:\n",
    "            type    description\n",
    "            -----------------------------\n",
    "            set,    all the edges that compose a max span tree\n",
    "        '''\n",
    "        #prepare structure to qurey\n",
    "        #test\n",
    "        #print(mi_dict)\n",
    "        \n",
    "        Vnew  = set()\n",
    "        V     = set()\n",
    "        Enew  = set()\n",
    "        edges  = defaultdict(list)\n",
    "        initial_node = max(mi_dict.items(),key=lambda d: d[1])[0][0]\n",
    "        Vnew.add(initial_node)\n",
    "        #print('Vnew=',Vnew)\n",
    "        for i in mi_dict:\n",
    "            edges[i[0]].append(i[1])\n",
    "            edges[i[1]].append(i[0])\n",
    "            V.add(i[0])\n",
    "            V.add(i[1])\n",
    "        #print('V=',V)\n",
    "        while Vnew != V:\n",
    "            #print('Vnew=',Vnew)\n",
    "            new_edges = {}\n",
    "            for u in Vnew:\n",
    "                v = [i for i in edges[u] if i not in Vnew]\n",
    "                for vi in v:\n",
    "                    edge = (u,vi) if (u,vi) in mi_dict else (vi,u)\n",
    "                    new_edges[edge] = mi_dict[edge]\n",
    "            new_edges = sorted(new_edges.items(),key=lambda d:d[1],reverse = True)\n",
    "            best_edge = new_edges[0]\n",
    "            Enew.add(best_edge[0])\n",
    "            Vnew.add(best_edge[0][0])\n",
    "            Vnew.add(best_edge[0][1])\n",
    "        return Enew\n",
    "        \n",
    "        \n",
    "    def get_basic_tan_structure(self,headings,data):#headings = ['data1','data2',...], data = numpy 2d vector\n",
    "        '''\n",
    "        interface function\n",
    "        get the basic structure of TAN and connect the nodes in the class.\n",
    "        we assumpe that the last col is the label colum and is ignored when handle features\n",
    "        input:\n",
    "            variable  type            description\n",
    "            --------------------------------------------------\n",
    "            headings, numpy arrary,   names of variables/nodes\n",
    "            data,     numpy arrary,   all the monitor data\n",
    "        '''\n",
    "        #computing mutual information entropy between features\n",
    "        mi_dict = {}\n",
    "        for i in range(len(headings)-1):\n",
    "            for j in range(i+1,len(headings)-1):\n",
    "                data1   = data[:,i]\n",
    "                data2   = data[:,j]\n",
    "                mi      = self.mutual_information(data1,data2)\n",
    "                mi_dict[(headings[i],headings[j])] = mi\n",
    "        \n",
    "        #set maximal span tree, mst\n",
    "        mst             = self.get_max_span_tree_prime(mi_dict)\n",
    "        Visited         = set()\n",
    "        edges           = defaultdict(list)\n",
    "        for i in mst:\n",
    "            edges[i[0]].append(i[1])\n",
    "            edges[i[1]].append(i[0])\n",
    "        initial_node    = self.nodes[0].name\n",
    "        start           = [initial_node]\n",
    "        Visited.add(initial_node)\n",
    "        while len(start)!=0:\n",
    "            new_start = []\n",
    "            for i in start:\n",
    "                ends = edges[i]\n",
    "                for j in ends:\n",
    "                    if j not in Visited:\n",
    "                        Visited.add(j)\n",
    "                        new_start.append(j)\n",
    "                        self.add_connection(i,j)\n",
    "            start = new_start\n",
    "        \n",
    "        #set the connection between label and features\n",
    "        for i in range(len(self.nodes)-1):\n",
    "            #print('class node =',self.nodes[-1].name)\n",
    "            self.add_connection(self.nodes[-1].name,self.nodes[i].name)\n",
    "            \n",
    "    def get_cpt(self,headings,data,node_name):\n",
    "        '''\n",
    "        interface/functional function\n",
    "        calculate the condition probability table based on the basic structure\n",
    "        x, y==>x, y,z==>x\n",
    "        input:\n",
    "            variable  type            description\n",
    "            --------------------------------------------------\n",
    "            headings, numpy arrary,   names of variables/nodes\n",
    "            data,     numpy arrary,   all the monitor data\n",
    "            node_name,string,         the node name\n",
    "        '''\n",
    "        the_index     = self.get_node_index(node_name)\n",
    "        the_node      = self.nodes[the_index]\n",
    "        father_nodes  = the_node.father\n",
    "        \n",
    "        domain_x = the_node.domain\n",
    "        data_x   = data[:,the_index]\n",
    "        len_x    = len(domain_x)\n",
    "        \n",
    "        length   = len(data)\n",
    "        \n",
    "        if len(father_nodes) == 0:\n",
    "            table = []\n",
    "            for x in domain_x:\n",
    "                Px = float(sum(data_x == x)+1)/(length + len_x)          #laplace smooth\n",
    "                table.append(Px)\n",
    "            self.add_pro(node_name,(),table)\n",
    "        elif len(father_nodes)==1:#y-->x\n",
    "            domain_y = father_nodes[0].domain\n",
    "            data_y   = data[:,self.get_node_index(father_nodes[0].name)]\n",
    "            len_y    = len(domain_y)\n",
    "            \n",
    "            for y in domain_y:\n",
    "                table    = []\n",
    "                Py     = float(sum(data_y == y) + len_x)/(length+len_x*len_y)       #laplace smooth\n",
    "                for x in domain_x:\n",
    "                    indexxy= [1 if (i==x)and(j==y) else 0 for i,j in zip(data_x,data_y)]\n",
    "                    Pxy    = float(sum(indexxy) + 1)/(length+len_x*len_y) #laplace smooth\n",
    "                    table.append(float(Pxy)/Py)\n",
    "                self.add_pro(node_name,(y,),table)\n",
    "                    \n",
    "        elif len(father_nodes)==2:#y,z==>x\n",
    "            domain_y = father_nodes[0].domain\n",
    "            data_y   = data[:,self.get_node_index(father_nodes[0].name)]\n",
    "            len_y    = len(domain_y)\n",
    "            domain_z = father_nodes[1].domain\n",
    "            data_z   = data[:,self.get_node_index(father_nodes[1].name)]\n",
    "            len_z    = len(domain_z)\n",
    "            \n",
    "            for y in domain_y:\n",
    "                for z in domain_z:\n",
    "                    table = []\n",
    "                    indexyz= [1 if (i==y)and(j==z) else 0 for i,j in zip(data_y,data_z)]\n",
    "                    Pyz    = float(sum(indexyz) + len_x)/(length+len_x*len_y*len_z) #laplace smooth\n",
    "                    for x in domain_x:\n",
    "                        indexxyz= [1 if (i==y)and(j==z)and(k==x) else 0 for i,j,k in zip(data_y,data_z,data_x)]\n",
    "                        Pxyz    = float(sum(indexxyz) + 1)/(length+len_y*len_z*len_x) #laplace smooth\n",
    "                        table.append(float(Pxyz)/Pyz)\n",
    "                    self.add_pro(node_name,(y,z),table)\n",
    "        \n",
    "    def train_tan(self,headings,data):\n",
    "        '''\n",
    "        interface function\n",
    "        calculate the condition probability table based on the basic structure\n",
    "        input:\n",
    "            variable  type            description\n",
    "            --------------------------------------------------\n",
    "            headings, numpy arrary,   names of variables/nodes\n",
    "            data,     numpy arrary,   all the monitor data\n",
    "        '''\n",
    "        for i in self.nodes:\n",
    "            self.get_cpt(headings,data,i.name)\n",
    "    \n",
    "    def print_tan(self):\n",
    "        for i in self.nodes:\n",
    "            i.print_self()\n",
    "        \n",
    "    def predict(self,features):\n",
    "        '''\n",
    "        interface function\n",
    "        calculate the condition probability table based on the basic structure\n",
    "        input:\n",
    "            variable  type            description\n",
    "            --------------------------------------------------\n",
    "            features, numpy arrary,   names of variables/nodes\n",
    "        '''\n",
    "        weight   = []\n",
    "        features = np.ndarray.tolist(features)\n",
    "        #print(self.nodes[-1].domain)\n",
    "        #print('domain=',self.nodes[-1].domain)\n",
    "        for i in self.nodes[-1].domain:\n",
    "            #print('i=',i)\n",
    "            Pi = 1\n",
    "            new_features = features + [i]\n",
    "            #print('new_features=',new_features)\n",
    "            for node in self.nodes:\n",
    "                #father\n",
    "                instance = []\n",
    "                father = node.father\n",
    "                for f in father:\n",
    "                    index = self.get_node_index(f.name)\n",
    "                    instance.append(new_features[index])\n",
    "                #print('instance=',instance)\n",
    "                table = node.pro_table[tuple(instance)]\n",
    "                #print('table = ',table)\n",
    "                #this node\n",
    "                index = self.get_node_index(node.name)           #index of this node in features\n",
    "                value = new_features[index]                      #value of this ndde in features\n",
    "                index = node.domain.index(value)                 #index value in domain\n",
    "                Pi = Pi*table[index]\n",
    "            weight.append(Pi)\n",
    "        norm = sum(weight)\n",
    "        weight = [i/norm for i in weight]\n",
    "        return weight"
   ]
  },
  {
   "cell_type": "markdown",
   "metadata": {},
   "source": [
    "##### Train TAN classifier"
   ]
  },
  {
   "cell_type": "code",
   "execution_count": 18,
   "metadata": {},
   "outputs": [
    {
     "name": "stdout",
     "output_type": "stream",
     "text": [
      "mode ==>feature0==>feature5 feature1 \n",
      "feature0 mode ==>feature1==>feature3 feature2 \n",
      "feature1 mode ==>feature2==>feature4 \n",
      "feature1 mode ==>feature3==>\n",
      "feature2 mode ==>feature4==>\n",
      "feature0 mode ==>feature5==>\n",
      "==>mode==>feature0 feature1 feature2 feature3 feature4 feature5 \n",
      "mode ==>feature0==>feature5 feature1 \n",
      "(0.0,) : [0.9393258426966292, 0.060674157303370786]\n",
      "(1.0,) : [0.5165094339622641, 0.4834905660377358]\n",
      "(2.0,) : [0.971571906354515, 0.028428093645484948]\n",
      "(3.0,) : [0.9649122807017543, 0.03508771929824561]\n",
      "(4.0,) : [0.7868852459016393, 0.21311475409836067]\n",
      "feature0 mode ==>feature1==>feature3 feature2 \n",
      "(0.0, 0.0) : [0.9487442337262941, 0.051255766273705795]\n",
      "(0.0, 1.0) : [0.9726651480637812, 0.02733485193621868]\n",
      "(0.0, 2.0) : [0.9803854094975911, 0.01961459050240881]\n",
      "(0.0, 3.0) : [0.8035714285714286, 0.1964285714285714]\n",
      "(0.0, 4.0) : [0.9591836734693878, 0.04081632653061224]\n",
      "(1.0, 0.0) : [0.5646437994722955, 0.4353562005277045]\n",
      "(1.0, 1.0) : [0.0267639902676399, 0.9732360097323602]\n",
      "(1.0, 2.0) : [0.616279069767442, 0.38372093023255816]\n",
      "(1.0, 3.0) : [0.6666666666666666, 0.3333333333333333]\n",
      "(1.0, 4.0) : [0.9285714285714286, 0.07142857142857142]\n",
      "feature1 mode ==>feature2==>feature4 \n",
      "(0.0, 0.0) : [0.9460724813594591, 0.05392751864054101]\n",
      "(0.0, 1.0) : [0.9954337899543378, 0.0045662100456621]\n",
      "(0.0, 2.0) : [0.9803583735354929, 0.019641626464507237]\n",
      "(0.0, 3.0) : [0.4468085106382978, 0.5531914893617021]\n",
      "(0.0, 4.0) : [0.13333333333333333, 0.8666666666666667]\n",
      "(1.0, 0.0) : [0.5849462365591398, 0.4150537634408602]\n",
      "(1.0, 1.0) : [0.0024271844660194177, 0.9975728155339806]\n",
      "(1.0, 2.0) : [0.4888888888888888, 0.5111111111111111]\n",
      "(1.0, 3.0) : [0.5, 0.5]\n",
      "(1.0, 4.0) : [0.6666666666666666, 0.3333333333333333]\n",
      "feature1 mode ==>feature3==>\n",
      "(0.0, 0.0) : [0.9613317149297729, 0.038668285070227154]\n",
      "(0.0, 1.0) : [0.9931506849315068, 0.006849315068493151]\n",
      "(0.0, 2.0) : [0.9872501722949689, 0.012749827705031013]\n",
      "(0.0, 3.0) : [0.9361702127659572, 0.06382978723404255]\n",
      "(0.0, 4.0) : [0.7833333333333334, 0.21666666666666667]\n",
      "(1.0, 0.0) : [0.3462365591397849, 0.6537634408602151]\n",
      "(1.0, 1.0) : [0.0024271844660194177, 0.9975728155339806]\n",
      "(1.0, 2.0) : [0.36666666666666664, 0.6333333333333333]\n",
      "(1.0, 3.0) : [0.5833333333333333, 0.41666666666666663]\n",
      "(1.0, 4.0) : [0.6666666666666666, 0.3333333333333333]\n",
      "feature2 mode ==>feature4==>\n",
      "(0.0, 0.0) : [0.9797486033519553, 0.020251396648044692]\n",
      "(0.0, 1.0) : [0.9908466819221968, 0.009153318077803204]\n",
      "(0.0, 2.0) : [0.9882312218760816, 0.01176877812391831]\n",
      "(0.0, 3.0) : [0.037037037037037035, 0.962962962962963]\n",
      "(0.0, 4.0) : [0.1, 0.9]\n",
      "(1.0, 0.0) : [0.376984126984127, 0.623015873015873]\n",
      "(1.0, 1.0) : [0.004842615012106538, 0.9951573849878934]\n",
      "(1.0, 2.0) : [0.6019417475728156, 0.39805825242718446]\n",
      "(1.0, 3.0) : [0.03125, 0.96875]\n",
      "(1.0, 4.0) : [0.018867924528301886, 0.9811320754716981]\n",
      "feature0 mode ==>feature5==>\n",
      "(0.0, 0.0) : [0.9454980351956263, 0.05450196480437382]\n",
      "(0.0, 1.0) : [0.9977220956719818, 0.002277904328018223]\n",
      "(0.0, 2.0) : [0.9803854094975911, 0.01961459050240881]\n",
      "(0.0, 3.0) : [0.875, 0.125]\n",
      "(0.0, 4.0) : [0.9591836734693878, 0.04081632653061224]\n",
      "(1.0, 0.0) : [0.4300791556728233, 0.5699208443271768]\n",
      "(1.0, 1.0) : [0.0413625304136253, 0.9586374695863746]\n",
      "(1.0, 2.0) : [0.39534883720930236, 0.6046511627906977]\n",
      "(1.0, 3.0) : [0.3333333333333333, 0.6666666666666666]\n",
      "(1.0, 4.0) : [0.5, 0.5]\n",
      "==>mode==>feature0 feature1 feature2 feature3 feature4 feature5 \n",
      "() : [0.6118259502995776, 0.08319418524702878, 0.2935860917395148, 0.005500441999803556, 0.005893330714075239]\n"
     ]
    }
   ],
   "source": [
    "#%xmode Plain\n",
    "\n",
    "tan = graph()\n",
    "tan.get_nodes_from_data(headings,labeled_data)\n",
    "tan.get_basic_tan_structure(headings,labeled_data)\n",
    "tan.print_tan()\n",
    "tan.train_tan(headings,labeled_data)\n",
    "tan.print_tan()"
   ]
  },
  {
   "cell_type": "markdown",
   "metadata": {
    "collapsed": true
   },
   "source": [
    "##### test all data"
   ]
  },
  {
   "cell_type": "code",
   "execution_count": 19,
   "metadata": {},
   "outputs": [
    {
     "name": "stdout",
     "output_type": "stream",
     "text": [
      "accuracy= 0.640625\n"
     ]
    }
   ],
   "source": [
    "input_data   = labeled_data[:,:-1]\n",
    "output_label = labeled_data[:,-1]\n",
    "predict_labels = []\n",
    "for i in input_data:\n",
    "    w = tan.predict(i)\n",
    "    index = w.index(max(w))\n",
    "    predict_labels.append(index)\n",
    "\n",
    "\n",
    "predict_labels = np.array(predict_labels)\n",
    "accuracy       = sum([i==j for i,j in zip(predict_labels,output_label)])/float(len(output_label))\n",
    "print('accuracy=',accuracy)"
   ]
  },
  {
   "cell_type": "markdown",
   "metadata": {
    "collapsed": true
   },
   "source": [
    "### Model based Diagnosis\n",
    "r1 = Qe-delta_e*k1*Ne\n",
    "\n",
    "r2 = Qo-delta_o*k2*No\n",
    "\n",
    "r3 = Pe-delta_e*k3*Ne^2\n",
    "\n",
    "r4 = Po-delta_o*k4*No^2\n",
    "\n",
    "\n",
    "Qe exhuast fan airflow\n",
    "\n",
    "Ne exhuast fan rotational speed\n",
    "\n",
    "Qo outdoor fan airflow\n",
    "\n",
    "No outdoor fan rotational speed\n",
    "\n",
    "delta_e = 1 when exhuast fan is on, 0 when exhuast fan is off\n",
    "\n",
    "delta_o = 1 when outdoor fan is on, 0 when outdoor fan is off\n",
    "\n",
    "k1 = 86.2834\n",
    "\n",
    "k2 = 91.84286\n",
    "\n",
    "k3 = 0.0001472726\n",
    "\n",
    "k4 = 0.0001595658 "
   ]
  },
  {
   "cell_type": "code",
   "execution_count": 40,
   "metadata": {},
   "outputs": [],
   "source": [
    "import numpy as np\n",
    "\n",
    "Qe = oau_data[:,5]\n",
    "Qo = oau_data[:,4]\n",
    "Ne = oau_data[:,3]\n",
    "No = oau_data[:,2]\n",
    "Pe = oau_data[:,1]\n",
    "Po = oau_data[:,0]\n",
    "De = [1 if i==0 else 0 for i in oau_data[:,13]]\n",
    "Do = [1 if i==0 else 0 for i in oau_data[:,12]]\n",
    "k1 = 86.2834\n",
    "k2 = 91.84286\n",
    "k3 = 0.0001472726\n",
    "k4 = 0.0001595658\n",
    "\n",
    "\n",
    "def residual_ariflow_balance(Q,delta,k,N):\n",
    "    return Q - delta*k*N\n",
    "\n",
    "def residual_pressure_balance(P,delta,k,N):\n",
    "    return P - delta*k*(N**2)\n",
    "\n",
    "residuals = [[residual_ariflow_balance(qe,de,k1,ne),\\\n",
    "              residual_ariflow_balance(qo,do,k2,no),\\\n",
    "              residual_pressure_balance(pe,de,k3,ne),\\\n",
    "              residual_pressure_balance(po,do,k4,no)] \\\n",
    "              for qe,qo,pe,po,ne,no,de,do in zip(Qe,Qo,Pe,Po,Ne,No,De,Do)]\n",
    "residuals = np.array(residuals)"
   ]
  },
  {
   "cell_type": "code",
   "execution_count": 41,
   "metadata": {},
   "outputs": [
    {
     "name": "stderr",
     "output_type": "stream",
     "text": [
      "D:\\App\\Anaconda3\\lib\\site-packages\\ipykernel_launcher.py:11: RuntimeWarning: invalid value encountered in true_divide\n",
      "  # This is added back by InteractiveShellApp.init_path()\n",
      "D:\\App\\Anaconda3\\lib\\site-packages\\ipykernel_launcher.py:12: RuntimeWarning: invalid value encountered in greater_equal\n",
      "  if sys.path[0] == '':\n",
      "D:\\App\\Anaconda3\\lib\\site-packages\\ipykernel_launcher.py:11: RuntimeWarning: divide by zero encountered in true_divide\n",
      "  # This is added back by InteractiveShellApp.init_path()\n"
     ]
    }
   ],
   "source": [
    "dis_residuals = z_test(residuals,100,0.95)"
   ]
  },
  {
   "cell_type": "markdown",
   "metadata": {},
   "source": [
    "#### Just residuals"
   ]
  },
  {
   "cell_type": "code",
   "execution_count": 60,
   "metadata": {
    "collapsed": true
   },
   "outputs": [],
   "source": [
    "model_headings = ['residual'+str(i) for i in range(len(dis_residuals[0]))]\n",
    "model_headings.append('mode')\n",
    "#print(model_headings)\n",
    "labels = labeled_data[:,-1]\n",
    "model_labeled_data  = [i+[j] for i,j in zip(dis_residuals.tolist(),labels.tolist())]\n",
    "model_labeled_data  = np.array(model_labeled_data)"
   ]
  },
  {
   "cell_type": "code",
   "execution_count": 61,
   "metadata": {},
   "outputs": [
    {
     "name": "stdout",
     "output_type": "stream",
     "text": [
      "accuracy= 0.61340408805\n"
     ]
    },
    {
     "data": {
      "image/png": "[encoded data removed]",
      "text/plain": [
       "<matplotlib.figure.Figure at 0x175a4b24ba8>"
      ]
     },
     "metadata": {},
     "output_type": "display_data"
    }
   ],
   "source": [
    "#truth table\n",
    "from collections import defaultdict\n",
    "\n",
    "truth_table = defaultdict(list)\n",
    "for i in model_labeled_data:\n",
    "    if tuple(i[:4]) not in truth_table:\n",
    "        truth_table[tuple(i[:4])] = [0,0,0,0,0]\n",
    "    table = truth_table[tuple(i[:4])]\n",
    "    table[int(i[4])] = table[int(i[4])] + 1\n",
    "    truth_table[tuple(i[:4])] = table\n",
    "\n",
    "for i in truth_table:\n",
    "    norm = sum(truth_table[i])\n",
    "    table = [j/norm for j in truth_table[i]]\n",
    "    truth_table[i] = table\n",
    "\n",
    "input_data   = model_labeled_data[:,:-1]\n",
    "output_label = model_labeled_data[:,-1]\n",
    "predict_labels = []\n",
    "for i in input_data:\n",
    "    w = truth_table[tuple(i)]\n",
    "    index = w.index(max(w))\n",
    "    predict_labels.append(index)\n",
    "\n",
    "\n",
    "predict_labels = np.array(predict_labels)\n",
    "\n",
    "accuracy = sum([i==j for i,j in zip(predict_labels,output_label)])/float(len(output_label))\n",
    "print('accuracy=',accuracy)\n",
    "\n",
    "import matplotlib.pyplot as plt\n",
    "\n",
    "x   = np.arange(len(predict_labels))\n",
    "plt.scatter(x,predict_labels, color = 'r')\n",
    "plt.scatter(x,output_label, color = 'g')\n",
    "\n",
    "plt.title('label compare: %d' % n_clusters_)\n",
    "plt.show()"
   ]
  },
  {
   "cell_type": "code",
   "execution_count": 62,
   "metadata": {},
   "outputs": [
    {
     "name": "stdout",
     "output_type": "stream",
     "text": [
      "accuracy= 0.613011006289\n"
     ]
    },
    {
     "data": {
      "image/png": "[encoded data removed]",
      "text/plain": [
       "<matplotlib.figure.Figure at 0x175a35ffb70>"
      ]
     },
     "metadata": {},
     "output_type": "display_data"
    }
   ],
   "source": [
    "#print(model_labeled_data)\n",
    "\n",
    "tan = graph()\n",
    "tan.get_nodes_from_data(model_headings,model_labeled_data)\n",
    "tan.get_basic_tan_structure(model_headings,model_labeled_data)\n",
    "#tan.print_tan()\n",
    "tan.train_tan(model_headings,model_labeled_data)\n",
    "#tan.print_tan()\n",
    "\n",
    "input_data   = model_labeled_data[:,:-1]\n",
    "#print('input_data=',np.ndarray.tolist(input_data))\n",
    "output_label = model_labeled_data[:,-1]\n",
    "#print(output_label)\n",
    "predict_labels = []\n",
    "for i in input_data:\n",
    "    w = tan.predict(i)\n",
    "    index = w.index(max(w))\n",
    "    predict_labels.append(index)\n",
    "\n",
    "\n",
    "predict_labels = np.array(predict_labels)\n",
    "\n",
    "accuracy = sum([i==j for i,j in zip(predict_labels,output_label)])/float(len(output_label))\n",
    "print('accuracy=',accuracy)\n",
    "\n",
    "import matplotlib.pyplot as plt\n",
    "\n",
    "x   = np.arange(len(predict_labels))\n",
    "plt.scatter(x,predict_labels, color = 'r')\n",
    "plt.scatter(x,output_label, color = 'g')\n",
    "\n",
    "plt.title('label compare: %d' % n_clusters_)\n",
    "plt.show()"
   ]
  },
  {
   "cell_type": "markdown",
   "metadata": {},
   "source": [
    "### Combine encoded data and residuals"
   ]
  },
  {
   "cell_type": "code",
   "execution_count": 45,
   "metadata": {},
   "outputs": [],
   "source": [
    "hybrid_headings = headings[:]\n",
    "hybrid_headings[-1:-1] = ['residual'+str(i) for i in range(len(dis_residuals[0]))]\n",
    "#print(hybrid_headings)\n",
    "hybrid_labeled_data = np.zeros([len(labeled_data),len(labeled_data[0])+len(dis_residuals[0])])\n",
    "for i in range(len(hybrid_labeled_data)):\n",
    "    tmp_data = np.hstack((labeled_data[i,:-1],dis_residuals[i,:]))\n",
    "    hybrid_labeled_data[i,:] = np.hstack((tmp_data,labeled_data[i,-1]))\n",
    "\n",
    "#print(hybrid_labeled_data)"
   ]
  },
  {
   "cell_type": "markdown",
   "metadata": {},
   "source": [
    "### Hybrid TAN"
   ]
  },
  {
   "cell_type": "code",
   "execution_count": 46,
   "metadata": {},
   "outputs": [],
   "source": [
    "#%xmode Plain\n",
    "\n",
    "tan = graph()\n",
    "tan.get_nodes_from_data(hybrid_headings,hybrid_labeled_data)\n",
    "tan.get_basic_tan_structure(hybrid_headings,hybrid_labeled_data)\n",
    "#tan.print_tan()\n",
    "tan.train_tan(hybrid_headings,hybrid_labeled_data)\n",
    "#tan.print_tan()"
   ]
  },
  {
   "cell_type": "markdown",
   "metadata": {},
   "source": [
    "#### test all data"
   ]
  },
  {
   "cell_type": "code",
   "execution_count": 48,
   "metadata": {},
   "outputs": [
    {
     "name": "stdout",
     "output_type": "stream",
     "text": [
      "accuracy= 0.640625\n"
     ]
    },
    {
     "data": {
      "image/png": "[encoded data removed]",
      "text/plain": [
       "<matplotlib.figure.Figure at 0x175a35e3c50>"
      ]
     },
     "metadata": {},
     "output_type": "display_data"
    }
   ],
   "source": [
    "input_data   = hybrid_labeled_data[:,:-1]\n",
    "output_label = hybrid_labeled_data[:,-1]\n",
    "#print(output_label)\n",
    "predict_labels = []\n",
    "for i in input_data:\n",
    "    w = tan.predict(i)\n",
    "    index = w.index(max(w))\n",
    "    predict_labels.append(index)\n",
    "\n",
    "\n",
    "predict_labels = np.array(predict_labels)\n",
    "#print(predict_labels)\n",
    "\n",
    "accuracy = sum([i==j for i,j in zip(predict_labels,output_label)])/float(len(output_label))\n",
    "print('accuracy=',accuracy)\n",
    "\n",
    "import matplotlib.pyplot as plt\n",
    "\n",
    "x   = np.arange(len(predict_labels))\n",
    "plt.scatter(x,predict_labels, color = 'r')\n",
    "plt.scatter(x,output_label, color = 'g')\n",
    "\n",
    "plt.title('label compare: %d' % n_clusters_)\n",
    "plt.show()"
   ]
  },
  {
   "cell_type": "code",
   "execution_count": null,
   "metadata": {
    "collapsed": true
   },
   "outputs": [],
   "source": []
  }
 ],
 "metadata": {
  "kernelspec": {
   "display_name": "Python 3",
   "language": "python",
   "name": "python3"
  },
  "language_info": {
   "codemirror_mode": {
    "name": "ipython",
    "version": 3
   },
   "file_extension": ".py",
   "mimetype": "text/x-python",
   "name": "python",
   "nbconvert_exporter": "python",
   "pygments_lexer": "ipython3",
   "version": "3.6.2"
  }
 },
 "nbformat": 4,
 "nbformat_minor": 2
}
